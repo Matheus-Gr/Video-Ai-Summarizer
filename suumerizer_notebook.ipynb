{
 "cells": [
  {
   "cell_type": "markdown",
   "metadata": {},
   "source": [
    "# Video Summarizer"
   ]
  },
  {
   "cell_type": "markdown",
   "metadata": {},
   "source": [
    "<p>To learn how to use visit <a href=\"https://github.com/Matheus-Gr/Video-Ai-Summarizer\">github page</a> of the project.</p>"
   ]
  },
  {
   "cell_type": "code",
   "execution_count": null,
   "metadata": {},
   "outputs": [],
   "source": [
    "from video_summarizer import *\n",
    "from pytube import YouTube"
   ]
  },
  {
   "cell_type": "code",
   "execution_count": null,
   "metadata": {},
   "outputs": [],
   "source": [
    "# Transcripition\n",
    "max_words = 250\n",
    "language = \"LANGUAGE\"\n",
    "# Google Keys\n",
    "gemini_key = \"GEMINI KEY\"\n",
    "google_cloud = \"GOOGLE CLOUD ACCOUNT JSON\"\n",
    "# Mail\n",
    "to_mail = \"RECIPIENT EMAIL\"\n",
    "from_mail = \"SENDER EMAIL\"\n",
    "from_mail_password = \"SENDER EMAIL PASSWORD\"\n",
    "# Voice\n",
    "language_code=\"LANGUAGE CODE\"\n",
    "voice_name='VOICE NAME'\n",
    "speaking_rate=1"
   ]
  },
  {
   "cell_type": "markdown",
   "metadata": {},
   "source": [
    "## YouTube video link"
   ]
  },
  {
   "cell_type": "code",
   "execution_count": null,
   "metadata": {},
   "outputs": [],
   "source": [
    "video_url = \"VIDEO URL\""
   ]
  },
  {
   "cell_type": "markdown",
   "metadata": {},
   "source": [
    "<p> Get transcription and summarize</p>"
   ]
  },
  {
   "cell_type": "code",
   "execution_count": null,
   "metadata": {},
   "outputs": [],
   "source": [
    "transcription = get_transcription(video_url)\n",
    "summary = summarize_transcription(transcription,max_words,gemini_key,language)\n",
    "print(summary)\n"
   ]
  },
  {
   "cell_type": "markdown",
   "metadata": {},
   "source": [
    "<p>Send email</p>"
   ]
  },
  {
   "cell_type": "code",
   "execution_count": null,
   "metadata": {},
   "outputs": [],
   "source": [
    "subjet = f'Summary of \"{YouTube(video_url).title}\"'\n",
    "send_email(summary,to_mail,from_mail,from_mail_password,subjet)"
   ]
  },
  {
   "cell_type": "markdown",
   "metadata": {},
   "source": [
    "<p>Play audio</p>"
   ]
  },
  {
   "cell_type": "code",
   "execution_count": null,
   "metadata": {},
   "outputs": [],
   "source": [
    "speak(summary,google_cloud,language_code,voice_name,speaking_rate)"
   ]
  }
 ],
 "metadata": {
  "kernelspec": {
   "display_name": "summarize",
   "language": "python",
   "name": "python3"
  },
  "language_info": {
   "codemirror_mode": {
    "name": "ipython",
    "version": 3
   },
   "file_extension": ".py",
   "mimetype": "text/x-python",
   "name": "python",
   "nbconvert_exporter": "python",
   "pygments_lexer": "ipython3",
   "version": "3.11.0"
  }
 },
 "nbformat": 4,
 "nbformat_minor": 2
}
