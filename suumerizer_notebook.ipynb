{
 "cells": [
  {
   "cell_type": "markdown",
   "metadata": {},
   "source": [
    "# Video Summarizer"
   ]
  },
  {
   "cell_type": "markdown",
   "metadata": {},
   "source": [
    "<p>To learn how to use visit <a href=\"https://github.com/Matheus-Gr/Video-Ai-Summarizer\">github page</a> of the project.</p>"
   ]
  },
  {
   "cell_type": "code",
   "execution_count": 13,
   "metadata": {},
   "outputs": [],
   "source": [
    "from video_summarizer import *\n",
    "from pytube import YouTube"
   ]
  },
  {
   "cell_type": "code",
   "execution_count": 14,
   "metadata": {},
   "outputs": [],
   "source": [
    "# Transcripition\n",
    "max_words = 250\n",
    "language = \"Brazilian Portuguese\"\n",
    "# Google Keys\n",
    "gemini_key = os.getenv('GEMINI_KEY')\n",
    "google_cloud = 'credentials.json'\n",
    "# Mail\n",
    "to_mail = os.getenv('TO_MAIL')\n",
    "from_mail = os.getenv('EMAIL')\n",
    "from_mail_password = os.getenv('EMAIL_PASSWORD')\n",
    "# Voice\n",
    "language_code=\"pt-BR\"\n",
    "voice_name='pt-BR-Wavenet-C'\n",
    "speaking_rate=1.15"
   ]
  },
  {
   "cell_type": "markdown",
   "metadata": {},
   "source": [
    "## YouTube video link"
   ]
  },
  {
   "cell_type": "code",
   "execution_count": 15,
   "metadata": {},
   "outputs": [],
   "source": [
    "video_url = \"https://www.youtube.com/watch?v=On2Yx349neE\""
   ]
  },
  {
   "cell_type": "markdown",
   "metadata": {},
   "source": [
    "<p> Get transcription and summarize</p>"
   ]
  },
  {
   "cell_type": "code",
   "execution_count": 16,
   "metadata": {},
   "outputs": [
    {
     "name": "stdout",
     "output_type": "stream",
     "text": [
      "Neste vídeo, o apresentador faz uma análise crítica da série Supernatural, destacando seus pontos fortes e fracos ao longo de suas 15 temporadas. \n",
      "\n",
      "Ele elogia as primeiras temporadas, especialmente a primeira, com sua estrutura episódica e a dinâmica dos irmãos Winchester. A trilha sonora rock também é apontada como um ponto positivo. No entanto, a partir da sexta temporada, a série começa a se perder em sua própria mitologia, com furos de roteiro, banalização da morte e soluções mágicas para problemas complexos. \n",
      "\n",
      "O apresentador critica o excesso de personagens e subtramas desnecessárias, além da falta de coerência em relação às regras estabelecidas no universo da série. Ele cita exemplos específicos de cenas e diálogos que considera ruins, apontando a falta de investimento em efeitos especiais e a previsibilidade de algumas tramas. \n",
      "\n",
      "Apesar das críticas, ele reconhece que a série tem seus momentos divertidos e que os episódios \"filler\" ainda são agradáveis de assistir. A conclusão é que Supernatural tinha potencial para ser uma série épica, mas se perdeu ao longo do caminho, tornando-se repetitiva e perdendo a credibilidade. O final, apesar de dividir opiniões, é considerado coerente com a proposta da série. \n",
      "\u001b[0m\n"
     ]
    }
   ],
   "source": [
    "transcription = get_transcription(video_url)\n",
    "summary = summarize_transcription(transcription,max_words,gemini_key,language)\n",
    "print(summary)\n"
   ]
  },
  {
   "cell_type": "markdown",
   "metadata": {},
   "source": [
    "<p>Send email</p>"
   ]
  },
  {
   "cell_type": "code",
   "execution_count": 17,
   "metadata": {},
   "outputs": [
    {
     "name": "stdout",
     "output_type": "stream",
     "text": [
      "\u001b[92mEmail sent!\u001b[0m\n"
     ]
    }
   ],
   "source": [
    "subjet = f'Summary of \"{YouTube(video_url).title}\"'\n",
    "send_email(summary,to_mail,from_mail,from_mail_password,subjet)"
   ]
  },
  {
   "cell_type": "markdown",
   "metadata": {},
   "source": [
    "<p>Play audio</p>"
   ]
  },
  {
   "cell_type": "code",
   "execution_count": 18,
   "metadata": {},
   "outputs": [
    {
     "name": "stdout",
     "output_type": "stream",
     "text": [
      "\u001b[92mAudio download done\u001b[0m\n"
     ]
    },
    {
     "ename": "KeyboardInterrupt",
     "evalue": "",
     "output_type": "error",
     "traceback": [
      "\u001b[1;31m---------------------------------------------------------------------------\u001b[0m",
      "\u001b[1;31mKeyboardInterrupt\u001b[0m                         Traceback (most recent call last)",
      "Cell \u001b[1;32mIn[18], line 1\u001b[0m\n\u001b[1;32m----> 1\u001b[0m \u001b[43mspeak\u001b[49m\u001b[43m(\u001b[49m\u001b[43msummary\u001b[49m\u001b[43m,\u001b[49m\u001b[43mgoogle_cloud\u001b[49m\u001b[43m,\u001b[49m\u001b[43mlanguage_code\u001b[49m\u001b[43m,\u001b[49m\u001b[43mvoice_name\u001b[49m\u001b[43m,\u001b[49m\u001b[43mspeaking_rate\u001b[49m\u001b[43m)\u001b[49m\n",
      "File \u001b[1;32md:\\Code\\Projects\\video_transcriber\\video_summarizer.py:130\u001b[0m, in \u001b[0;36mspeak\u001b[1;34m(text, google_cloud_account, language_code, voice_name, speaking_rate, auto_play)\u001b[0m\n\u001b[0;32m    127\u001b[0m sound \u001b[38;5;241m=\u001b[39m AudioSegment\u001b[38;5;241m.\u001b[39mfrom_mp3(output_filename)\n\u001b[0;32m    129\u001b[0m \u001b[38;5;28;01mif\u001b[39;00m auto_play:\n\u001b[1;32m--> 130\u001b[0m     \u001b[43mplay\u001b[49m\u001b[43m(\u001b[49m\u001b[43msound\u001b[49m\u001b[43m)\u001b[49m\n",
      "File \u001b[1;32md:\\Code\\conda\\envs\\summarize\\Lib\\site-packages\\pydub\\playback.py:64\u001b[0m, in \u001b[0;36mplay\u001b[1;34m(audio_segment)\u001b[0m\n\u001b[0;32m     61\u001b[0m     \u001b[38;5;28;01mreturn\u001b[39;00m\n\u001b[0;32m     63\u001b[0m \u001b[38;5;28;01mtry\u001b[39;00m:\n\u001b[1;32m---> 64\u001b[0m     \u001b[43m_play_with_pyaudio\u001b[49m\u001b[43m(\u001b[49m\u001b[43maudio_segment\u001b[49m\u001b[43m)\u001b[49m\n\u001b[0;32m     65\u001b[0m     \u001b[38;5;28;01mreturn\u001b[39;00m\n\u001b[0;32m     66\u001b[0m \u001b[38;5;28;01mexcept\u001b[39;00m \u001b[38;5;167;01mImportError\u001b[39;00m:\n",
      "File \u001b[1;32md:\\Code\\conda\\envs\\summarize\\Lib\\site-packages\\pydub\\playback.py:33\u001b[0m, in \u001b[0;36m_play_with_pyaudio\u001b[1;34m(seg)\u001b[0m\n\u001b[0;32m     30\u001b[0m \u001b[38;5;28;01mtry\u001b[39;00m:\n\u001b[0;32m     31\u001b[0m     \u001b[38;5;66;03m# break audio into half-second chunks (to allows keyboard interrupts)\u001b[39;00m\n\u001b[0;32m     32\u001b[0m     \u001b[38;5;28;01mfor\u001b[39;00m chunk \u001b[38;5;129;01min\u001b[39;00m make_chunks(seg, \u001b[38;5;241m500\u001b[39m):\n\u001b[1;32m---> 33\u001b[0m         \u001b[43mstream\u001b[49m\u001b[38;5;241;43m.\u001b[39;49m\u001b[43mwrite\u001b[49m\u001b[43m(\u001b[49m\u001b[43mchunk\u001b[49m\u001b[38;5;241;43m.\u001b[39;49m\u001b[43m_data\u001b[49m\u001b[43m)\u001b[49m\n\u001b[0;32m     34\u001b[0m \u001b[38;5;28;01mfinally\u001b[39;00m:\n\u001b[0;32m     35\u001b[0m     stream\u001b[38;5;241m.\u001b[39mstop_stream()\n",
      "File \u001b[1;32md:\\Code\\conda\\envs\\summarize\\Lib\\site-packages\\pyaudio\\__init__.py:550\u001b[0m, in \u001b[0;36mPyAudio.Stream.write\u001b[1;34m(self, frames, num_frames, exception_on_underflow)\u001b[0m\n\u001b[0;32m    547\u001b[0m     width \u001b[38;5;241m=\u001b[39m get_sample_size(\u001b[38;5;28mself\u001b[39m\u001b[38;5;241m.\u001b[39m_format)\n\u001b[0;32m    548\u001b[0m     num_frames \u001b[38;5;241m=\u001b[39m \u001b[38;5;28mint\u001b[39m(\u001b[38;5;28mlen\u001b[39m(frames) \u001b[38;5;241m/\u001b[39m (\u001b[38;5;28mself\u001b[39m\u001b[38;5;241m.\u001b[39m_channels \u001b[38;5;241m*\u001b[39m width))\n\u001b[1;32m--> 550\u001b[0m \u001b[43mpa\u001b[49m\u001b[38;5;241;43m.\u001b[39;49m\u001b[43mwrite_stream\u001b[49m\u001b[43m(\u001b[49m\u001b[38;5;28;43mself\u001b[39;49m\u001b[38;5;241;43m.\u001b[39;49m\u001b[43m_stream\u001b[49m\u001b[43m,\u001b[49m\u001b[43m \u001b[49m\u001b[43mframes\u001b[49m\u001b[43m,\u001b[49m\u001b[43m \u001b[49m\u001b[43mnum_frames\u001b[49m\u001b[43m,\u001b[49m\n\u001b[0;32m    551\u001b[0m \u001b[43m                \u001b[49m\u001b[43mexception_on_underflow\u001b[49m\u001b[43m)\u001b[49m\n",
      "\u001b[1;31mKeyboardInterrupt\u001b[0m: "
     ]
    }
   ],
   "source": [
    "speak(summary,google_cloud,language_code,voice_name,speaking_rate)"
   ]
  }
 ],
 "metadata": {
  "kernelspec": {
   "display_name": "summarize",
   "language": "python",
   "name": "python3"
  },
  "language_info": {
   "codemirror_mode": {
    "name": "ipython",
    "version": 3
   },
   "file_extension": ".py",
   "mimetype": "text/x-python",
   "name": "python",
   "nbconvert_exporter": "python",
   "pygments_lexer": "ipython3",
   "version": "3.11.0"
  }
 },
 "nbformat": 4,
 "nbformat_minor": 2
}
