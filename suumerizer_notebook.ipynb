{
 "cells": [
  {
   "cell_type": "markdown",
   "metadata": {},
   "source": [
    "# Video Summarizer"
   ]
  },
  {
   "cell_type": "code",
   "execution_count": null,
   "metadata": {},
   "outputs": [],
   "source": [
    "from video_summarizer import *\n",
    "from pytube import YouTube"
   ]
  },
  {
   "cell_type": "markdown",
   "metadata": {},
   "source": [
    "### Variables"
   ]
  },
  {
   "cell_type": "code",
   "execution_count": null,
   "metadata": {},
   "outputs": [],
   "source": [
    "video_url = \"https://www.youtube.com/watch?v=On2Yx349neE\"\n",
    "max_words = 250\n",
    "language = \"Brazilian Portuguese\"\n",
    "# Google Keys\n",
    "gemini_key = os.getenv('GEMINI_KEY')\n",
    "google_cloud = 'credentials.json'\n",
    "# Mail\n",
    "to_mail = os.getenv('TO_MAIL')\n",
    "from_mail = os.getenv('EMAIL')\n",
    "from_mail_password = os.getenv('EMAIL_PASSWORD')\n",
    "# Voice\n",
    "language_code=\"pt-BR\"\n",
    "voice_name='pt-BR-Wavenet-C'"
   ]
  },
  {
   "cell_type": "markdown",
   "metadata": {},
   "source": [
    "### Get transcription and summarize"
   ]
  },
  {
   "cell_type": "code",
   "execution_count": null,
   "metadata": {},
   "outputs": [],
   "source": [
    "transcription = get_transcription(video_url)\n",
    "summary = summarize_transcription(transcription,max_words,gemini_key,language)\n",
    "print(summary)\n"
   ]
  },
  {
   "cell_type": "markdown",
   "metadata": {},
   "source": [
    "### Send email"
   ]
  },
  {
   "cell_type": "code",
   "execution_count": null,
   "metadata": {},
   "outputs": [],
   "source": [
    "subjet = f'Resumo de \"{YouTube(video_url).title}\"'\n",
    "send_email(summary,to_mail,from_mail,from_mail_password,subjet)"
   ]
  },
  {
   "cell_type": "markdown",
   "metadata": {},
   "source": [
    "### Play audio"
   ]
  },
  {
   "cell_type": "code",
   "execution_count": null,
   "metadata": {},
   "outputs": [],
   "source": [
    "speak(summary,google_cloud,language_code,voice_name)"
   ]
  }
 ],
 "metadata": {
  "kernelspec": {
   "display_name": "summarize",
   "language": "python",
   "name": "python3"
  },
  "language_info": {
   "codemirror_mode": {
    "name": "ipython",
    "version": 3
   },
   "file_extension": ".py",
   "mimetype": "text/x-python",
   "name": "python",
   "nbconvert_exporter": "python",
   "pygments_lexer": "ipython3",
   "version": "3.11.0"
  }
 },
 "nbformat": 4,
 "nbformat_minor": 2
}
